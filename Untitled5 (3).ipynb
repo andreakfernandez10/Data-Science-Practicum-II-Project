{
 "cells": [
  {
   "cell_type": "code",
   "execution_count": 1,
   "metadata": {},
   "outputs": [
    {
     "name": "stdout",
     "output_type": "stream",
     "text": [
      "pandas version  1.1.3\n"
     ]
    }
   ],
   "source": [
    "import numpy as np\n",
    "import pandas as pd\n",
    "import seaborn as sns\n",
    "from matplotlib import pyplot as plt\n",
    "from datetime import datetime as dt\n",
    "import itertools\n",
    "import csv\n",
    "import os\n",
    "from sklearn.preprocessing import scale\n",
    "from sklearn.linear_model import LogisticRegression\n",
    "from sklearn.ensemble import RandomForestClassifier\n",
    "from sklearn.svm import SVC\n",
    "from IPython.display import display\n",
    "import matplotlib.pyplot as plt\n",
    "\n",
    "%matplotlib inline\n",
    "    \n",
    "from __future__ import division\n",
    "from __future__ import print_function\n",
    "from sklearn import linear_model\n",
    "from sklearn import svm\n",
    "from sklearn import ensemble\n",
    "from importlib import reload\n",
    "\n",
    "print (\"pandas version \",pd.__version__)"
   ]
  },
  {
   "cell_type": "code",
   "execution_count": 52,
   "metadata": {},
   "outputs": [],
   "source": [
    "# The next code works well, but produces a lot of warning signs, which I tried to prevent with this:\n",
    "import warnings\n",
    "warnings.filterwarnings('ignore')"
   ]
  },
  {
   "cell_type": "code",
   "execution_count": 2,
   "metadata": {},
   "outputs": [],
   "source": [
    "# Load ucldata into python\n",
    "ucldata= pd.read_csv(r'/Users/andrea/Downloads/ucl-soccer-1955-2019.csv')"
   ]
  },
  {
   "cell_type": "code",
   "execution_count": 3,
   "metadata": {},
   "outputs": [
    {
     "data": {
      "text/html": [
       "<div>\n",
       "<style scoped>\n",
       "    .dataframe tbody tr th:only-of-type {\n",
       "        vertical-align: middle;\n",
       "    }\n",
       "\n",
       "    .dataframe tbody tr th {\n",
       "        vertical-align: top;\n",
       "    }\n",
       "\n",
       "    .dataframe thead th {\n",
       "        text-align: right;\n",
       "    }\n",
       "</style>\n",
       "<table border=\"1\" class=\"dataframe\">\n",
       "  <thead>\n",
       "    <tr style=\"text-align: right;\">\n",
       "      <th></th>\n",
       "      <th>club</th>\n",
       "      <th>nation</th>\n",
       "      <th>coach</th>\n",
       "      <th>formation</th>\n",
       "      <th>mvp</th>\n",
       "      <th>position</th>\n",
       "      <th>season</th>\n",
       "    </tr>\n",
       "  </thead>\n",
       "  <tbody>\n",
       "    <tr>\n",
       "      <th>123</th>\n",
       "      <td>Juventus</td>\n",
       "      <td>Italy</td>\n",
       "      <td>Massimiliano Allegri</td>\n",
       "      <td>'3-4-3'</td>\n",
       "      <td>unknown</td>\n",
       "      <td>runner up</td>\n",
       "      <td>'2016/2017'</td>\n",
       "    </tr>\n",
       "    <tr>\n",
       "      <th>124</th>\n",
       "      <td>Real Madrid CF</td>\n",
       "      <td>Spain</td>\n",
       "      <td>Zinédine Zidane</td>\n",
       "      <td>'4-3-3'</td>\n",
       "      <td>Gareth Bale</td>\n",
       "      <td>winner</td>\n",
       "      <td>'2017/2018'</td>\n",
       "    </tr>\n",
       "    <tr>\n",
       "      <th>125</th>\n",
       "      <td>Liverpool FC</td>\n",
       "      <td>England</td>\n",
       "      <td>Jürgen Klopp</td>\n",
       "      <td>'4-3-3'</td>\n",
       "      <td>unknown</td>\n",
       "      <td>runner up</td>\n",
       "      <td>'2017/2018'</td>\n",
       "    </tr>\n",
       "    <tr>\n",
       "      <th>126</th>\n",
       "      <td>Liverpool FC</td>\n",
       "      <td>England</td>\n",
       "      <td>Jürgen Klopp</td>\n",
       "      <td>'4-3-3'</td>\n",
       "      <td>Virgil van Dijk</td>\n",
       "      <td>winner</td>\n",
       "      <td>'2018/2019'</td>\n",
       "    </tr>\n",
       "    <tr>\n",
       "      <th>127</th>\n",
       "      <td>Tottenham Hotspur</td>\n",
       "      <td>England</td>\n",
       "      <td>Jürgen Klopp</td>\n",
       "      <td>'4-4-2'</td>\n",
       "      <td>unknown</td>\n",
       "      <td>runner up</td>\n",
       "      <td>'2018/2019'</td>\n",
       "    </tr>\n",
       "  </tbody>\n",
       "</table>\n",
       "</div>"
      ],
      "text/plain": [
       "                  club   nation                 coach formation  \\\n",
       "123           Juventus    Italy  Massimiliano Allegri   '3-4-3'   \n",
       "124     Real Madrid CF    Spain       Zinédine Zidane   '4-3-3'   \n",
       "125       Liverpool FC  England          Jürgen Klopp   '4-3-3'   \n",
       "126       Liverpool FC  England          Jürgen Klopp   '4-3-3'   \n",
       "127  Tottenham Hotspur  England          Jürgen Klopp   '4-4-2'   \n",
       "\n",
       "                 mvp   position       season  \n",
       "123          unknown  runner up  '2016/2017'  \n",
       "124      Gareth Bale     winner  '2017/2018'  \n",
       "125          unknown  runner up  '2017/2018'  \n",
       "126  Virgil van Dijk     winner  '2018/2019'  \n",
       "127          unknown  runner up  '2018/2019'  "
      ]
     },
     "execution_count": 3,
     "metadata": {},
     "output_type": "execute_result"
    }
   ],
   "source": [
    "# make sure data was uploaded and is correct\n",
    "ucldata.head()\n",
    "ucldata.tail()"
   ]
  },
  {
   "cell_type": "code",
   "execution_count": 68,
   "metadata": {},
   "outputs": [
    {
     "data": {
      "text/html": [
       "<div>\n",
       "<style scoped>\n",
       "    .dataframe tbody tr th:only-of-type {\n",
       "        vertical-align: middle;\n",
       "    }\n",
       "\n",
       "    .dataframe tbody tr th {\n",
       "        vertical-align: top;\n",
       "    }\n",
       "\n",
       "    .dataframe thead th {\n",
       "        text-align: right;\n",
       "    }\n",
       "</style>\n",
       "<table border=\"1\" class=\"dataframe\">\n",
       "  <thead>\n",
       "    <tr style=\"text-align: right;\">\n",
       "      <th></th>\n",
       "      <th>Date</th>\n",
       "      <th>Season</th>\n",
       "      <th>round</th>\n",
       "      <th>leg</th>\n",
       "      <th>home</th>\n",
       "      <th>visitor</th>\n",
       "      <th>FT</th>\n",
       "      <th>HT</th>\n",
       "      <th>aet</th>\n",
       "      <th>pens</th>\n",
       "      <th>...</th>\n",
       "      <th>FTagg_visitor</th>\n",
       "      <th>aethgoal</th>\n",
       "      <th>aetvgoal</th>\n",
       "      <th>tothgoal</th>\n",
       "      <th>totvgoal</th>\n",
       "      <th>totagg_home</th>\n",
       "      <th>totagg_visitor</th>\n",
       "      <th>tiewinner</th>\n",
       "      <th>hcountry</th>\n",
       "      <th>vcountry</th>\n",
       "    </tr>\n",
       "  </thead>\n",
       "  <tbody>\n",
       "    <tr>\n",
       "      <th>6549</th>\n",
       "      <td>4/26/16</td>\n",
       "      <td>2015</td>\n",
       "      <td>SF</td>\n",
       "      <td>1</td>\n",
       "      <td>Manchester City</td>\n",
       "      <td>Real Madrid</td>\n",
       "      <td>0-0</td>\n",
       "      <td>0-0</td>\n",
       "      <td>NaN</td>\n",
       "      <td>NaN</td>\n",
       "      <td>...</td>\n",
       "      <td>1</td>\n",
       "      <td>NaN</td>\n",
       "      <td>NaN</td>\n",
       "      <td>0</td>\n",
       "      <td>0</td>\n",
       "      <td>0</td>\n",
       "      <td>1</td>\n",
       "      <td>Real Madrid</td>\n",
       "      <td>ENG</td>\n",
       "      <td>ESP</td>\n",
       "    </tr>\n",
       "    <tr>\n",
       "      <th>6550</th>\n",
       "      <td>4/27/16</td>\n",
       "      <td>2015</td>\n",
       "      <td>SF</td>\n",
       "      <td>1</td>\n",
       "      <td>Atletico Madrid</td>\n",
       "      <td>Bayern Munich</td>\n",
       "      <td>1-0</td>\n",
       "      <td>1-0</td>\n",
       "      <td>NaN</td>\n",
       "      <td>NaN</td>\n",
       "      <td>...</td>\n",
       "      <td>2</td>\n",
       "      <td>NaN</td>\n",
       "      <td>NaN</td>\n",
       "      <td>1</td>\n",
       "      <td>0</td>\n",
       "      <td>2</td>\n",
       "      <td>2</td>\n",
       "      <td>Atletico Madrid</td>\n",
       "      <td>ESP</td>\n",
       "      <td>GER</td>\n",
       "    </tr>\n",
       "    <tr>\n",
       "      <th>6551</th>\n",
       "      <td>5/3/16</td>\n",
       "      <td>2015</td>\n",
       "      <td>SF</td>\n",
       "      <td>2</td>\n",
       "      <td>Bayern Munich</td>\n",
       "      <td>Atletico Madrid</td>\n",
       "      <td>2-1</td>\n",
       "      <td>1-0</td>\n",
       "      <td>NaN</td>\n",
       "      <td>away goals</td>\n",
       "      <td>...</td>\n",
       "      <td>2</td>\n",
       "      <td>NaN</td>\n",
       "      <td>NaN</td>\n",
       "      <td>2</td>\n",
       "      <td>1</td>\n",
       "      <td>2</td>\n",
       "      <td>2</td>\n",
       "      <td>Atletico Madrid</td>\n",
       "      <td>GER</td>\n",
       "      <td>ESP</td>\n",
       "    </tr>\n",
       "    <tr>\n",
       "      <th>6552</th>\n",
       "      <td>5/4/16</td>\n",
       "      <td>2015</td>\n",
       "      <td>SF</td>\n",
       "      <td>2</td>\n",
       "      <td>Real Madrid</td>\n",
       "      <td>Manchester City</td>\n",
       "      <td>1-0</td>\n",
       "      <td>1-0</td>\n",
       "      <td>NaN</td>\n",
       "      <td>NaN</td>\n",
       "      <td>...</td>\n",
       "      <td>0</td>\n",
       "      <td>NaN</td>\n",
       "      <td>NaN</td>\n",
       "      <td>1</td>\n",
       "      <td>0</td>\n",
       "      <td>1</td>\n",
       "      <td>0</td>\n",
       "      <td>Real Madrid</td>\n",
       "      <td>ESP</td>\n",
       "      <td>ENG</td>\n",
       "    </tr>\n",
       "    <tr>\n",
       "      <th>6553</th>\n",
       "      <td>5/28/16</td>\n",
       "      <td>2015</td>\n",
       "      <td>final</td>\n",
       "      <td>NaN</td>\n",
       "      <td>Real Madrid</td>\n",
       "      <td>Atletico Madrid</td>\n",
       "      <td>1-1</td>\n",
       "      <td>1-0</td>\n",
       "      <td>1-1</td>\n",
       "      <td>5-3</td>\n",
       "      <td>...</td>\n",
       "      <td>1</td>\n",
       "      <td>1.0</td>\n",
       "      <td>1.0</td>\n",
       "      <td>1</td>\n",
       "      <td>1</td>\n",
       "      <td>1</td>\n",
       "      <td>1</td>\n",
       "      <td>Real Madrid</td>\n",
       "      <td>ESP</td>\n",
       "      <td>ESP</td>\n",
       "    </tr>\n",
       "  </tbody>\n",
       "</table>\n",
       "<p>5 rows × 23 columns</p>\n",
       "</div>"
      ],
      "text/plain": [
       "         Date  Season  round  leg             home          visitor   FT   HT  \\\n",
       "6549  4/26/16    2015     SF    1  Manchester City      Real Madrid  0-0  0-0   \n",
       "6550  4/27/16    2015     SF    1  Atletico Madrid    Bayern Munich  1-0  1-0   \n",
       "6551   5/3/16    2015     SF    2    Bayern Munich  Atletico Madrid  2-1  1-0   \n",
       "6552   5/4/16    2015     SF    2      Real Madrid  Manchester City  1-0  1-0   \n",
       "6553  5/28/16    2015  final  NaN      Real Madrid  Atletico Madrid  1-1  1-0   \n",
       "\n",
       "      aet        pens  ...  FTagg_visitor  aethgoal  aetvgoal  tothgoal  \\\n",
       "6549  NaN         NaN  ...              1       NaN       NaN         0   \n",
       "6550  NaN         NaN  ...              2       NaN       NaN         1   \n",
       "6551  NaN  away goals  ...              2       NaN       NaN         2   \n",
       "6552  NaN         NaN  ...              0       NaN       NaN         1   \n",
       "6553  1-1         5-3  ...              1       1.0       1.0         1   \n",
       "\n",
       "      totvgoal  totagg_home  totagg_visitor        tiewinner  hcountry  \\\n",
       "6549         0            0               1      Real Madrid       ENG   \n",
       "6550         0            2               2  Atletico Madrid       ESP   \n",
       "6551         1            2               2  Atletico Madrid       GER   \n",
       "6552         0            1               0      Real Madrid       ESP   \n",
       "6553         1            1               1      Real Madrid       ESP   \n",
       "\n",
       "      vcountry  \n",
       "6549       ESP  \n",
       "6550       GER  \n",
       "6551       ESP  \n",
       "6552       ENG  \n",
       "6553       ESP  \n",
       "\n",
       "[5 rows x 23 columns]"
      ]
     },
     "execution_count": 68,
     "metadata": {},
     "output_type": "execute_result"
    }
   ],
   "source": [
    "# Download champs data \n",
    "champs= pd.read_csv(r'/Users/andrea/Downloads/champs.csv', encoding='unicode_escape')\n",
    "champs.head()\n",
    "champs.tail()"
   ]
  },
  {
   "cell_type": "code",
   "execution_count": 5,
   "metadata": {},
   "outputs": [
    {
     "name": "stdout",
     "output_type": "stream",
     "text": [
      "<class 'pandas.core.frame.DataFrame'>\n",
      "RangeIndex: 6554 entries, 0 to 6553\n",
      "Data columns (total 23 columns):\n",
      " #   Column          Non-Null Count  Dtype  \n",
      "---  ------          --------------  -----  \n",
      " 0   Date            6554 non-null   object \n",
      " 1   Season          6554 non-null   int64  \n",
      " 2   round           6554 non-null   object \n",
      " 3   leg             6492 non-null   object \n",
      " 4   home            6554 non-null   object \n",
      " 5   visitor         6554 non-null   object \n",
      " 6   FT              6554 non-null   object \n",
      " 7   HT              4788 non-null   object \n",
      " 8   aet             128 non-null    object \n",
      " 9   pens            205 non-null    object \n",
      " 10  hgoal           6554 non-null   int64  \n",
      " 11  vgoal           6554 non-null   int64  \n",
      " 12  FTagg_home      6554 non-null   int64  \n",
      " 13  FTagg_visitor   6554 non-null   int64  \n",
      " 14  aethgoal        128 non-null    float64\n",
      " 15  aetvgoal        128 non-null    float64\n",
      " 16  tothgoal        6554 non-null   int64  \n",
      " 17  totvgoal        6554 non-null   int64  \n",
      " 18  totagg_home     6554 non-null   int64  \n",
      " 19  totagg_visitor  6554 non-null   int64  \n",
      " 20  tiewinner       4368 non-null   object \n",
      " 21  hcountry        6554 non-null   object \n",
      " 22  vcountry        6554 non-null   object \n",
      "dtypes: float64(2), int64(9), object(12)\n",
      "memory usage: 1.2+ MB\n"
     ]
    },
    {
     "data": {
      "text/plain": [
       "Date                 0\n",
       "Season               0\n",
       "round                0\n",
       "leg                 62\n",
       "home                 0\n",
       "visitor              0\n",
       "FT                   0\n",
       "HT                1766\n",
       "aet               6426\n",
       "pens              6349\n",
       "hgoal                0\n",
       "vgoal                0\n",
       "FTagg_home           0\n",
       "FTagg_visitor        0\n",
       "aethgoal          6426\n",
       "aetvgoal          6426\n",
       "tothgoal             0\n",
       "totvgoal             0\n",
       "totagg_home          0\n",
       "totagg_visitor       0\n",
       "tiewinner         2186\n",
       "hcountry             0\n",
       "vcountry             0\n",
       "dtype: int64"
      ]
     },
     "execution_count": 5,
     "metadata": {},
     "output_type": "execute_result"
    }
   ],
   "source": [
    "# assess champs data \n",
    "champs.shape\n",
    "champs.info()\n",
    "champs.isnull().sum()"
   ]
  },
  {
   "cell_type": "code",
   "execution_count": 6,
   "metadata": {},
   "outputs": [
    {
     "data": {
      "text/plain": [
       "Date              0\n",
       "Season            0\n",
       "round             0\n",
       "leg               0\n",
       "home              0\n",
       "visitor           0\n",
       "FT                0\n",
       "HT                0\n",
       "aet               0\n",
       "pens              0\n",
       "hgoal             0\n",
       "vgoal             0\n",
       "FTagg_home        0\n",
       "FTagg_visitor     0\n",
       "aethgoal          0\n",
       "aetvgoal          0\n",
       "tothgoal          0\n",
       "totvgoal          0\n",
       "totagg_home       0\n",
       "totagg_visitor    0\n",
       "tiewinner         0\n",
       "hcountry          0\n",
       "vcountry          0\n",
       "dtype: int64"
      ]
     },
     "execution_count": 6,
     "metadata": {},
     "output_type": "execute_result"
    }
   ],
   "source": [
    "# Data cleaning\n",
    "champs.isnull()\n",
    "champs[\"round\"].fillna(\"No round\", inplace = True) \n",
    "champs[\"pens\"].fillna(\"No penalties\", inplace = True)\n",
    "champs[\"aet\"].fillna(\"No extra time\", inplace = True)\n",
    "champs[\"HT\"].fillna(\"No info\", inplace = True)\n",
    "champs[\"leg\"].fillna(\"No info\", inplace = True)\n",
    "champs[\"aethgoal\"].fillna(\"No info\", inplace = True)\n",
    "champs[\"aetvgoal\"].fillna(\"No info\", inplace = True)\n",
    "champs[\"tiewinner\"].fillna(\"No tie\", inplace = True)\n",
    "# Confirming the data does not have NA values\n",
    "champs.isnull().sum()"
   ]
  },
  {
   "cell_type": "code",
   "execution_count": 7,
   "metadata": {
    "scrolled": false
   },
   "outputs": [
    {
     "name": "stdout",
     "output_type": "stream",
     "text": [
      "<class 'pandas.core.frame.DataFrame'>\n",
      "RangeIndex: 6554 entries, 0 to 6553\n",
      "Data columns (total 23 columns):\n",
      " #   Column          Non-Null Count  Dtype \n",
      "---  ------          --------------  ----- \n",
      " 0   Date            6554 non-null   object\n",
      " 1   Season          6554 non-null   int64 \n",
      " 2   round           6554 non-null   object\n",
      " 3   leg             6554 non-null   object\n",
      " 4   home            6554 non-null   object\n",
      " 5   visitor         6554 non-null   object\n",
      " 6   FT              6554 non-null   object\n",
      " 7   HT              6554 non-null   object\n",
      " 8   aet             6554 non-null   object\n",
      " 9   pens            6554 non-null   object\n",
      " 10  hgoal           6554 non-null   int64 \n",
      " 11  vgoal           6554 non-null   int64 \n",
      " 12  FTagg_home      6554 non-null   int64 \n",
      " 13  FTagg_visitor   6554 non-null   int64 \n",
      " 14  aethgoal        6554 non-null   object\n",
      " 15  aetvgoal        6554 non-null   object\n",
      " 16  tothgoal        6554 non-null   int64 \n",
      " 17  totvgoal        6554 non-null   int64 \n",
      " 18  totagg_home     6554 non-null   int64 \n",
      " 19  totagg_visitor  6554 non-null   int64 \n",
      " 20  tiewinner       6554 non-null   object\n",
      " 21  hcountry        6554 non-null   object\n",
      " 22  vcountry        6554 non-null   object\n",
      "dtypes: int64(9), object(14)\n",
      "memory usage: 1.2+ MB\n"
     ]
    }
   ],
   "source": [
    "# Check type for each column after cleaning\n",
    "champs.info()"
   ]
  },
  {
   "cell_type": "code",
   "execution_count": 8,
   "metadata": {
    "scrolled": false
   },
   "outputs": [
    {
     "data": {
      "text/plain": [
       "club         0\n",
       "nation       0\n",
       "coach        0\n",
       "formation    0\n",
       "mvp          0\n",
       "position     0\n",
       "season       0\n",
       "dtype: int64"
      ]
     },
     "execution_count": 8,
     "metadata": {},
     "output_type": "execute_result"
    }
   ],
   "source": [
    "# Check missing values for ucldata\n",
    "ucldata.isnull()\n",
    "ucldata.isnull().sum()"
   ]
  },
  {
   "cell_type": "code",
   "execution_count": 9,
   "metadata": {},
   "outputs": [
    {
     "name": "stdout",
     "output_type": "stream",
     "text": [
      "<class 'pandas.core.frame.DataFrame'>\n",
      "RangeIndex: 128 entries, 0 to 127\n",
      "Data columns (total 7 columns):\n",
      " #   Column     Non-Null Count  Dtype \n",
      "---  ------     --------------  ----- \n",
      " 0   club       128 non-null    object\n",
      " 1   nation     128 non-null    object\n",
      " 2   coach      128 non-null    object\n",
      " 3   formation  128 non-null    object\n",
      " 4   mvp        128 non-null    object\n",
      " 5   position   128 non-null    object\n",
      " 6   season     128 non-null    object\n",
      "dtypes: object(7)\n",
      "memory usage: 7.1+ KB\n"
     ]
    },
    {
     "data": {
      "text/plain": [
       "(128, 7)"
      ]
     },
     "execution_count": 9,
     "metadata": {},
     "output_type": "execute_result"
    }
   ],
   "source": [
    "# Exploratory Data Analysis UCL Data\n",
    "ucldata.info()\n",
    "ucldata.shape"
   ]
  },
  {
   "cell_type": "code",
   "execution_count": 10,
   "metadata": {},
   "outputs": [
    {
     "data": {
      "text/plain": [
       "Real Madrid CF       16\n",
       "AC Milan             11\n",
       "FC Bayern Munchen    10\n",
       "Liverpool FC          9\n",
       "Juventus              9\n",
       "Name: club, dtype: int64"
      ]
     },
     "execution_count": 10,
     "metadata": {},
     "output_type": "execute_result"
    }
   ],
   "source": [
    "# EDA cont.\n",
    "ucldata.describe()\n",
    "ucldata['club'].value_counts().head(5)"
   ]
  },
  {
   "cell_type": "code",
   "execution_count": 11,
   "metadata": {},
   "outputs": [
    {
     "data": {
      "text/plain": [
       "Spain       29\n",
       "Italy       28\n",
       "England     22\n",
       "Germany     17\n",
       "Portugal     9\n",
       "Name: nation, dtype: int64"
      ]
     },
     "execution_count": 11,
     "metadata": {},
     "output_type": "execute_result"
    }
   ],
   "source": [
    "# Top 5 nations that teams come from\n",
    "ucldata['nation'].value_counts().head(5)"
   ]
  },
  {
   "cell_type": "code",
   "execution_count": 12,
   "metadata": {},
   "outputs": [
    {
     "data": {
      "text/plain": [
       "Real Madrid CF          16\n",
       "AC Milan                11\n",
       "FC Bayern Munchen       10\n",
       "Liverpool FC             9\n",
       "Juventus                 9\n",
       "Barcelona FC             7\n",
       "SL Benfica               7\n",
       "AFC Ajax                 6\n",
       "FC Internazionale        5\n",
       "Manchester United FC     5\n",
       "Name: club, dtype: int64"
      ]
     },
     "execution_count": 12,
     "metadata": {},
     "output_type": "execute_result"
    }
   ],
   "source": [
    "# Top 10 teams in the final \n",
    "ucldata['club'].value_counts().head(10)"
   ]
  },
  {
   "cell_type": "code",
   "execution_count": 13,
   "metadata": {},
   "outputs": [
    {
     "data": {
      "text/plain": [
       "Real Madrid          204\n",
       "Bayern Munich        156\n",
       "Barcelona            141\n",
       "Manchester United    131\n",
       "AC Milan             127\n",
       "Juventus             117\n",
       "SL Benfica           112\n",
       "Dinamo Kiev          110\n",
       "FC Porto             108\n",
       "AFC Ajax              98\n",
       "Name: home, dtype: int64"
      ]
     },
     "execution_count": 13,
     "metadata": {},
     "output_type": "execute_result"
    }
   ],
   "source": [
    "# EDA champs data\n",
    "champs['home'].value_counts().head(10)"
   ]
  },
  {
   "cell_type": "code",
   "execution_count": 14,
   "metadata": {},
   "outputs": [
    {
     "data": {
      "text/plain": [
       "Real Madrid          193\n",
       "Bayern Munich        155\n",
       "Barcelona            137\n",
       "Manchester United    130\n",
       "AC Milan             122\n",
       "Juventus             121\n",
       "SL Benfica           116\n",
       "Dinamo Kiev          110\n",
       "FC Porto             107\n",
       "Arsenal               97\n",
       "Name: visitor, dtype: int64"
      ]
     },
     "execution_count": 14,
     "metadata": {},
     "output_type": "execute_result"
    }
   ],
   "source": [
    "#Top 10 visiting teams\n",
    "champs['visitor'].value_counts().head(10)"
   ]
  },
  {
   "cell_type": "code",
   "execution_count": 15,
   "metadata": {},
   "outputs": [
    {
     "data": {
      "image/png": "[encoded data removed]",
      "text/plain": [
       "<Figure size 432x288 with 1 Axes>"
      ]
     },
     "metadata": {
      "needs_background": "light"
     },
     "output_type": "display_data"
    }
   ],
   "source": [
    "# Top 5 score outcomes for all games\n",
    "champs['FT'].value_counts().head(5).sort_values().plot(kind = 'barh', color='lightblue')\n",
    "plt.title('Top 5 Score Outcomes')\n",
    "\n",
    "plt.show()"
   ]
  },
  {
   "cell_type": "code",
   "execution_count": 16,
   "metadata": {
    "scrolled": false
   },
   "outputs": [
    {
     "data": {
      "image/png": "[encoded data removed]",
      "text/plain": [
       "<Figure size 432x288 with 1 Axes>"
      ]
     },
     "metadata": {},
     "output_type": "display_data"
    }
   ],
   "source": [
    "# Countries represented in tournament since 1955\n",
    "champs.hcountry.value_counts(normalize=True)\n",
    "champs.hcountry.value_counts(normalize=True).plot.pie()\n",
    "\n",
    "plt.show()"
   ]
  },
  {
   "cell_type": "code",
   "execution_count": 17,
   "metadata": {},
   "outputs": [
    {
     "data": {
      "text/plain": [
       "count    6554.000000\n",
       "mean        2.837809\n",
       "std         2.249594\n",
       "min         0.000000\n",
       "25%         1.000000\n",
       "50%         2.000000\n",
       "75%         4.000000\n",
       "max        18.000000\n",
       "Name: FTagg_home, dtype: float64"
      ]
     },
     "execution_count": 17,
     "metadata": {},
     "output_type": "execute_result"
    }
   ],
   "source": [
    "# Taking a look at the aggregate values for home teams\n",
    "champs.FTagg_home.describe()"
   ]
  },
  {
   "cell_type": "code",
   "execution_count": 18,
   "metadata": {},
   "outputs": [
    {
     "data": {
      "text/plain": [
       "count    6554.000000\n",
       "mean        2.817211\n",
       "std         2.246690\n",
       "min         0.000000\n",
       "25%         1.000000\n",
       "50%         2.000000\n",
       "75%         4.000000\n",
       "max        18.000000\n",
       "Name: FTagg_visitor, dtype: float64"
      ]
     },
     "execution_count": 18,
     "metadata": {},
     "output_type": "execute_result"
    }
   ],
   "source": [
    "# Aggregate values for visitor teams which has a lower mean\n",
    "champs.FTagg_visitor.describe()"
   ]
  },
  {
   "cell_type": "code",
   "execution_count": 19,
   "metadata": {},
   "outputs": [
    {
     "data": {
      "image/png": "[encoded data removed]",
      "text/plain": [
       "<Figure size 432x288 with 1 Axes>"
      ]
     },
     "metadata": {
      "needs_background": "light"
     },
     "output_type": "display_data"
    }
   ],
   "source": [
    "# scatter plt of aggregate goals for home and visitor\n",
    "plt.scatter(champs.FTagg_home,champs.FTagg_visitor)\n",
    "plt.show()"
   ]
  },
  {
   "cell_type": "code",
   "execution_count": 20,
   "metadata": {},
   "outputs": [],
   "source": [
    "from pandas import DataFrame\n",
    "from numpy import array\n",
    "from sklearn.ensemble import RandomForestClassifier"
   ]
  },
  {
   "cell_type": "code",
   "execution_count": 21,
   "metadata": {},
   "outputs": [
    {
     "data": {
      "image/png": "[encoded data removed]",
      "text/plain": [
       "<Figure size 432x288 with 1 Axes>"
      ]
     },
     "metadata": {
      "needs_background": "light"
     },
     "output_type": "display_data"
    }
   ],
   "source": [
    "import matplotlib as mp\n",
    "from matplotlib import colors as mcolors\n",
    "\n",
    "# Plot producing the top 5 teams in the final which were either winner or runner up\n",
    "res=ucldata.groupby(by='club', as_index=False).count()\n",
    "res = res.sort_values(by='position', ascending=False).head()\n",
    "plt.title('Teams Based on Winner and Runner Up')\n",
    "ax = sns.barplot(x='club', y='position', data=res, color ='thistle')\n",
    "ax.set_xticklabels(ax.get_xticklabels(), rotation=45, horizontalalignment='right')\n",
    "\n",
    "\n",
    "plt.show()"
   ]
  },
  {
   "cell_type": "code",
   "execution_count": 22,
   "metadata": {},
   "outputs": [
    {
     "data": {
      "text/html": [
       "<div>\n",
       "<style scoped>\n",
       "    .dataframe tbody tr th:only-of-type {\n",
       "        vertical-align: middle;\n",
       "    }\n",
       "\n",
       "    .dataframe tbody tr th {\n",
       "        vertical-align: top;\n",
       "    }\n",
       "\n",
       "    .dataframe thead th {\n",
       "        text-align: right;\n",
       "    }\n",
       "</style>\n",
       "<table border=\"1\" class=\"dataframe\">\n",
       "  <thead>\n",
       "    <tr style=\"text-align: right;\">\n",
       "      <th></th>\n",
       "      <th>Season</th>\n",
       "      <th>hgoal</th>\n",
       "      <th>vgoal</th>\n",
       "      <th>FTagg_home</th>\n",
       "      <th>FTagg_visitor</th>\n",
       "      <th>tothgoal</th>\n",
       "      <th>totvgoal</th>\n",
       "      <th>totagg_home</th>\n",
       "      <th>totagg_visitor</th>\n",
       "    </tr>\n",
       "  </thead>\n",
       "  <tbody>\n",
       "    <tr>\n",
       "      <th>Season</th>\n",
       "      <td>1.000000</td>\n",
       "      <td>-0.154011</td>\n",
       "      <td>-0.012750</td>\n",
       "      <td>-0.137295</td>\n",
       "      <td>-0.126029</td>\n",
       "      <td>-0.155911</td>\n",
       "      <td>-0.012735</td>\n",
       "      <td>-0.139742</td>\n",
       "      <td>-0.127340</td>\n",
       "    </tr>\n",
       "    <tr>\n",
       "      <th>hgoal</th>\n",
       "      <td>-0.154011</td>\n",
       "      <td>1.000000</td>\n",
       "      <td>-0.146639</td>\n",
       "      <td>0.847744</td>\n",
       "      <td>-0.201674</td>\n",
       "      <td>0.996321</td>\n",
       "      <td>-0.147527</td>\n",
       "      <td>0.845136</td>\n",
       "      <td>-0.203475</td>\n",
       "    </tr>\n",
       "    <tr>\n",
       "      <th>vgoal</th>\n",
       "      <td>-0.012750</td>\n",
       "      <td>-0.146639</td>\n",
       "      <td>1.000000</td>\n",
       "      <td>-0.164713</td>\n",
       "      <td>0.726069</td>\n",
       "      <td>-0.149384</td>\n",
       "      <td>0.998126</td>\n",
       "      <td>-0.166718</td>\n",
       "      <td>0.724028</td>\n",
       "    </tr>\n",
       "    <tr>\n",
       "      <th>FTagg_home</th>\n",
       "      <td>-0.137295</td>\n",
       "      <td>0.847744</td>\n",
       "      <td>-0.164713</td>\n",
       "      <td>1.000000</td>\n",
       "      <td>-0.217372</td>\n",
       "      <td>0.843896</td>\n",
       "      <td>-0.165548</td>\n",
       "      <td>0.997389</td>\n",
       "      <td>-0.219339</td>\n",
       "    </tr>\n",
       "    <tr>\n",
       "      <th>FTagg_visitor</th>\n",
       "      <td>-0.126029</td>\n",
       "      <td>-0.201674</td>\n",
       "      <td>0.726069</td>\n",
       "      <td>-0.217372</td>\n",
       "      <td>1.000000</td>\n",
       "      <td>-0.204230</td>\n",
       "      <td>0.724174</td>\n",
       "      <td>-0.219553</td>\n",
       "      <td>0.997934</td>\n",
       "    </tr>\n",
       "    <tr>\n",
       "      <th>tothgoal</th>\n",
       "      <td>-0.155911</td>\n",
       "      <td>0.996321</td>\n",
       "      <td>-0.149384</td>\n",
       "      <td>0.843896</td>\n",
       "      <td>-0.204230</td>\n",
       "      <td>1.000000</td>\n",
       "      <td>-0.149251</td>\n",
       "      <td>0.846435</td>\n",
       "      <td>-0.205514</td>\n",
       "    </tr>\n",
       "    <tr>\n",
       "      <th>totvgoal</th>\n",
       "      <td>-0.012735</td>\n",
       "      <td>-0.147527</td>\n",
       "      <td>0.998126</td>\n",
       "      <td>-0.165548</td>\n",
       "      <td>0.724174</td>\n",
       "      <td>-0.149251</td>\n",
       "      <td>1.000000</td>\n",
       "      <td>-0.166844</td>\n",
       "      <td>0.724138</td>\n",
       "    </tr>\n",
       "    <tr>\n",
       "      <th>totagg_home</th>\n",
       "      <td>-0.139742</td>\n",
       "      <td>0.845136</td>\n",
       "      <td>-0.166718</td>\n",
       "      <td>0.997389</td>\n",
       "      <td>-0.219553</td>\n",
       "      <td>0.846435</td>\n",
       "      <td>-0.166844</td>\n",
       "      <td>1.000000</td>\n",
       "      <td>-0.220750</td>\n",
       "    </tr>\n",
       "    <tr>\n",
       "      <th>totagg_visitor</th>\n",
       "      <td>-0.127340</td>\n",
       "      <td>-0.203475</td>\n",
       "      <td>0.724028</td>\n",
       "      <td>-0.219339</td>\n",
       "      <td>0.997934</td>\n",
       "      <td>-0.205514</td>\n",
       "      <td>0.724138</td>\n",
       "      <td>-0.220750</td>\n",
       "      <td>1.000000</td>\n",
       "    </tr>\n",
       "  </tbody>\n",
       "</table>\n",
       "</div>"
      ],
      "text/plain": [
       "                  Season     hgoal     vgoal  FTagg_home  FTagg_visitor  \\\n",
       "Season          1.000000 -0.154011 -0.012750   -0.137295      -0.126029   \n",
       "hgoal          -0.154011  1.000000 -0.146639    0.847744      -0.201674   \n",
       "vgoal          -0.012750 -0.146639  1.000000   -0.164713       0.726069   \n",
       "FTagg_home     -0.137295  0.847744 -0.164713    1.000000      -0.217372   \n",
       "FTagg_visitor  -0.126029 -0.201674  0.726069   -0.217372       1.000000   \n",
       "tothgoal       -0.155911  0.996321 -0.149384    0.843896      -0.204230   \n",
       "totvgoal       -0.012735 -0.147527  0.998126   -0.165548       0.724174   \n",
       "totagg_home    -0.139742  0.845136 -0.166718    0.997389      -0.219553   \n",
       "totagg_visitor -0.127340 -0.203475  0.724028   -0.219339       0.997934   \n",
       "\n",
       "                tothgoal  totvgoal  totagg_home  totagg_visitor  \n",
       "Season         -0.155911 -0.012735    -0.139742       -0.127340  \n",
       "hgoal           0.996321 -0.147527     0.845136       -0.203475  \n",
       "vgoal          -0.149384  0.998126    -0.166718        0.724028  \n",
       "FTagg_home      0.843896 -0.165548     0.997389       -0.219339  \n",
       "FTagg_visitor  -0.204230  0.724174    -0.219553        0.997934  \n",
       "tothgoal        1.000000 -0.149251     0.846435       -0.205514  \n",
       "totvgoal       -0.149251  1.000000    -0.166844        0.724138  \n",
       "totagg_home     0.846435 -0.166844     1.000000       -0.220750  \n",
       "totagg_visitor -0.205514  0.724138    -0.220750        1.000000  "
      ]
     },
     "execution_count": 22,
     "metadata": {},
     "output_type": "execute_result"
    },
    {
     "data": {
      "image/png": "[encoded data removed]",
      "text/plain": [
       "<Figure size 1440x720 with 2 Axes>"
      ]
     },
     "metadata": {
      "needs_background": "light"
     },
     "output_type": "display_data"
    }
   ],
   "source": [
    "# Creatd a heat map in order to show \n",
    "plt.figure(figsize=(20,10))\n",
    "c= champs.corr()\n",
    "sns.heatmap(c,cmap=\"BrBG\",annot=True)\n",
    "c"
   ]
  },
  {
   "cell_type": "code",
   "execution_count": 23,
   "metadata": {},
   "outputs": [
    {
     "data": {
      "text/plain": [
       "<AxesSubplot:xlabel='hgoal'>"
      ]
     },
     "execution_count": 23,
     "metadata": {},
     "output_type": "execute_result"
    },
    {
     "data": {
      "image/png": "[encoded data removed]",
      "text/plain": [
       "<Figure size 432x288 with 1 Axes>"
      ]
     },
     "metadata": {
      "needs_background": "light"
     },
     "output_type": "display_data"
    }
   ],
   "source": [
    "# Boxplot to look for outliers\n",
    "sns.boxplot(x=champs['hgoal'])"
   ]
  },
  {
   "cell_type": "code",
   "execution_count": 24,
   "metadata": {},
   "outputs": [
    {
     "data": {
      "text/plain": [
       "<AxesSubplot:xlabel='vgoal'>"
      ]
     },
     "execution_count": 24,
     "metadata": {},
     "output_type": "execute_result"
    },
    {
     "data": {
      "image/png": "[encoded data removed]",
      "text/plain": [
       "<Figure size 432x288 with 1 Axes>"
      ]
     },
     "metadata": {
      "needs_background": "light"
     },
     "output_type": "display_data"
    }
   ],
   "source": [
    "# Boxplot to look for outliers\n",
    "sns.boxplot(x=champs['vgoal'])"
   ]
  },
  {
   "cell_type": "code",
   "execution_count": 25,
   "metadata": {},
   "outputs": [
    {
     "name": "stdout",
     "output_type": "stream",
     "text": [
      "Season            25.0\n",
      "hgoal              2.0\n",
      "vgoal              2.0\n",
      "FTagg_home         3.0\n",
      "FTagg_visitor      3.0\n",
      "tothgoal           2.0\n",
      "totvgoal           2.0\n",
      "totagg_home        3.0\n",
      "totagg_visitor     3.0\n",
      "dtype: float64\n"
     ]
    }
   ],
   "source": [
    "# Print the \n",
    "q1 = champs.quantile(0.25)\n",
    "q3=champs.quantile(0.75)\n",
    "iqr=q3-q1\n",
    "print(iqr)"
   ]
  },
  {
   "cell_type": "code",
   "execution_count": 26,
   "metadata": {},
   "outputs": [],
   "source": [
    "# In order to run the model these columns needed to be deleted to not disrupt it. They are object types like data\n",
    "champs = champs.drop(champs.columns[[0,1,2,3,8,9,14,15,20]], axis=1)"
   ]
  },
  {
   "cell_type": "code",
   "execution_count": 27,
   "metadata": {
    "scrolled": true
   },
   "outputs": [
    {
     "data": {
      "text/html": [
       "<div>\n",
       "<style scoped>\n",
       "    .dataframe tbody tr th:only-of-type {\n",
       "        vertical-align: middle;\n",
       "    }\n",
       "\n",
       "    .dataframe tbody tr th {\n",
       "        vertical-align: top;\n",
       "    }\n",
       "\n",
       "    .dataframe thead th {\n",
       "        text-align: right;\n",
       "    }\n",
       "</style>\n",
       "<table border=\"1\" class=\"dataframe\">\n",
       "  <thead>\n",
       "    <tr style=\"text-align: right;\">\n",
       "      <th></th>\n",
       "      <th>home</th>\n",
       "      <th>visitor</th>\n",
       "      <th>FT</th>\n",
       "      <th>HT</th>\n",
       "      <th>hgoal</th>\n",
       "      <th>vgoal</th>\n",
       "      <th>FTagg_home</th>\n",
       "      <th>FTagg_visitor</th>\n",
       "      <th>tothgoal</th>\n",
       "      <th>totvgoal</th>\n",
       "      <th>totagg_home</th>\n",
       "      <th>totagg_visitor</th>\n",
       "      <th>hcountry</th>\n",
       "      <th>vcountry</th>\n",
       "    </tr>\n",
       "  </thead>\n",
       "  <tbody>\n",
       "    <tr>\n",
       "      <th>0</th>\n",
       "      <td>Sporting CP</td>\n",
       "      <td>Partizan Belgrade</td>\n",
       "      <td>3-3</td>\n",
       "      <td>1-1</td>\n",
       "      <td>3</td>\n",
       "      <td>3</td>\n",
       "      <td>5</td>\n",
       "      <td>8</td>\n",
       "      <td>3</td>\n",
       "      <td>3</td>\n",
       "      <td>5</td>\n",
       "      <td>8</td>\n",
       "      <td>POR</td>\n",
       "      <td>SRB</td>\n",
       "    </tr>\n",
       "    <tr>\n",
       "      <th>1</th>\n",
       "      <td>Budapesti Voros Lobogo</td>\n",
       "      <td>RSC Anderlecht</td>\n",
       "      <td>6-3</td>\n",
       "      <td>3-2</td>\n",
       "      <td>6</td>\n",
       "      <td>3</td>\n",
       "      <td>10</td>\n",
       "      <td>4</td>\n",
       "      <td>6</td>\n",
       "      <td>3</td>\n",
       "      <td>10</td>\n",
       "      <td>4</td>\n",
       "      <td>HUN</td>\n",
       "      <td>BEL</td>\n",
       "    </tr>\n",
       "    <tr>\n",
       "      <th>2</th>\n",
       "      <td>Servette Geneve</td>\n",
       "      <td>Real Madrid</td>\n",
       "      <td>0-2</td>\n",
       "      <td>0-0</td>\n",
       "      <td>0</td>\n",
       "      <td>2</td>\n",
       "      <td>0</td>\n",
       "      <td>7</td>\n",
       "      <td>0</td>\n",
       "      <td>2</td>\n",
       "      <td>0</td>\n",
       "      <td>7</td>\n",
       "      <td>SUI</td>\n",
       "      <td>ESP</td>\n",
       "    </tr>\n",
       "    <tr>\n",
       "      <th>3</th>\n",
       "      <td>Rot-Weiss Essen</td>\n",
       "      <td>Hibernian FC</td>\n",
       "      <td>0-4</td>\n",
       "      <td>0-2</td>\n",
       "      <td>0</td>\n",
       "      <td>4</td>\n",
       "      <td>1</td>\n",
       "      <td>5</td>\n",
       "      <td>0</td>\n",
       "      <td>4</td>\n",
       "      <td>1</td>\n",
       "      <td>5</td>\n",
       "      <td>GER</td>\n",
       "      <td>SCO</td>\n",
       "    </tr>\n",
       "    <tr>\n",
       "      <th>4</th>\n",
       "      <td>Djurgardens IF</td>\n",
       "      <td>Gwardia Warszawa</td>\n",
       "      <td>0-0</td>\n",
       "      <td>0-0</td>\n",
       "      <td>0</td>\n",
       "      <td>0</td>\n",
       "      <td>4</td>\n",
       "      <td>1</td>\n",
       "      <td>0</td>\n",
       "      <td>0</td>\n",
       "      <td>4</td>\n",
       "      <td>1</td>\n",
       "      <td>SWE</td>\n",
       "      <td>POL</td>\n",
       "    </tr>\n",
       "  </tbody>\n",
       "</table>\n",
       "</div>"
      ],
      "text/plain": [
       "                     home            visitor   FT   HT  hgoal  vgoal  \\\n",
       "0             Sporting CP  Partizan Belgrade  3-3  1-1      3      3   \n",
       "1  Budapesti Voros Lobogo     RSC Anderlecht  6-3  3-2      6      3   \n",
       "2         Servette Geneve        Real Madrid  0-2  0-0      0      2   \n",
       "3         Rot-Weiss Essen       Hibernian FC  0-4  0-2      0      4   \n",
       "4          Djurgardens IF   Gwardia Warszawa  0-0  0-0      0      0   \n",
       "\n",
       "   FTagg_home  FTagg_visitor  tothgoal  totvgoal  totagg_home  totagg_visitor  \\\n",
       "0           5              8         3         3            5               8   \n",
       "1          10              4         6         3           10               4   \n",
       "2           0              7         0         2            0               7   \n",
       "3           1              5         0         4            1               5   \n",
       "4           4              1         0         0            4               1   \n",
       "\n",
       "  hcountry vcountry  \n",
       "0      POR      SRB  \n",
       "1      HUN      BEL  \n",
       "2      SUI      ESP  \n",
       "3      GER      SCO  \n",
       "4      SWE      POL  "
      ]
     },
     "execution_count": 27,
     "metadata": {},
     "output_type": "execute_result"
    }
   ],
   "source": [
    "# Checking to see the new dataset \n",
    "champs.head()"
   ]
  },
  {
   "cell_type": "code",
   "execution_count": 28,
   "metadata": {},
   "outputs": [],
   "source": [
    "### Preparing Data"
   ]
  },
  {
   "cell_type": "code",
   "execution_count": 29,
   "metadata": {
    "scrolled": true
   },
   "outputs": [],
   "source": [
    "# The data is now separated into feature set and target variable so we are trying to predict the full-time score\n",
    "\n",
    "x_all = champs.drop(['FT', 'home', 'visitor', 'hcountry', 'vcountry', 'HT'], 1)\n",
    "y_all = champs['FT']"
   ]
  },
  {
   "cell_type": "code",
   "execution_count": 30,
   "metadata": {},
   "outputs": [],
   "source": [
    "# The data needs to be scaled so I used all of the integer columns to standardize\n",
    "from sklearn.preprocessing import scale\n",
    "\n",
    "cols=[['hgoal', 'vgoal', 'totvgoal', 'tothgoal', 'totagg_home', 'totagg_visitor']]\n",
    "for col in cols:\n",
    "    x_all[col] = scale(x_all[col])"
   ]
  },
  {
   "cell_type": "code",
   "execution_count": 31,
   "metadata": {
    "scrolled": false
   },
   "outputs": [
    {
     "name": "stdout",
     "output_type": "stream",
     "text": [
      "Processed feature columns (8 total features):\n",
      "['hgoal', 'vgoal', 'FTagg_home', 'FTagg_visitor', 'tothgoal', 'totvgoal', 'totagg_home', 'totagg_visitor']\n"
     ]
    }
   ],
   "source": [
    "# There are some characters in the dataset still so turning them into dummy variables so the model can run\n",
    "\n",
    "def preprocess_features(X):\n",
    "    '''Preprocesses the soccer data and converts catagorical variables into dummy variables.'''\n",
    "    \n",
    "    output = pd.DataFrame(index = X.index)\n",
    "    \n",
    "    for col, col_data in X.iteritems():\n",
    "        \n",
    "        \n",
    "        if col_data.dtype == object:\n",
    "            col_data = pd.get_dummies(col_data, prefix = col)\n",
    "    \n",
    "\n",
    "        # new columns and what it looks like now\n",
    "        output = output.join(col_data)\n",
    "    return output \n",
    "\n",
    "x_all = preprocess_features(x_all)\n",
    "print (\"Processed feature columns ({} total features):\\n{}\".format(len(x_all.columns), list(x_all.columns)))\n"
   ]
  },
  {
   "cell_type": "code",
   "execution_count": 32,
   "metadata": {},
   "outputs": [
    {
     "name": "stdout",
     "output_type": "stream",
     "text": [
      "\n",
      "Feature values:\n"
     ]
    },
    {
     "data": {
      "text/html": [
       "<div>\n",
       "<style scoped>\n",
       "    .dataframe tbody tr th:only-of-type {\n",
       "        vertical-align: middle;\n",
       "    }\n",
       "\n",
       "    .dataframe tbody tr th {\n",
       "        vertical-align: top;\n",
       "    }\n",
       "\n",
       "    .dataframe thead th {\n",
       "        text-align: right;\n",
       "    }\n",
       "</style>\n",
       "<table border=\"1\" class=\"dataframe\">\n",
       "  <thead>\n",
       "    <tr style=\"text-align: right;\">\n",
       "      <th></th>\n",
       "      <th>hgoal</th>\n",
       "      <th>vgoal</th>\n",
       "      <th>FTagg_home</th>\n",
       "      <th>FTagg_visitor</th>\n",
       "      <th>tothgoal</th>\n",
       "      <th>totvgoal</th>\n",
       "      <th>totagg_home</th>\n",
       "      <th>totagg_visitor</th>\n",
       "    </tr>\n",
       "  </thead>\n",
       "  <tbody>\n",
       "    <tr>\n",
       "      <th>0</th>\n",
       "      <td>0.789726</td>\n",
       "      <td>1.603975</td>\n",
       "      <td>5</td>\n",
       "      <td>8</td>\n",
       "      <td>0.781488</td>\n",
       "      <td>1.599196</td>\n",
       "      <td>0.953676</td>\n",
       "      <td>2.300493</td>\n",
       "    </tr>\n",
       "    <tr>\n",
       "      <th>1</th>\n",
       "      <td>2.691917</td>\n",
       "      <td>1.603975</td>\n",
       "      <td>10</td>\n",
       "      <td>4</td>\n",
       "      <td>2.681294</td>\n",
       "      <td>1.599196</td>\n",
       "      <td>3.175800</td>\n",
       "      <td>0.520185</td>\n",
       "    </tr>\n",
       "    <tr>\n",
       "      <th>2</th>\n",
       "      <td>-1.112465</td>\n",
       "      <td>0.776419</td>\n",
       "      <td>0</td>\n",
       "      <td>7</td>\n",
       "      <td>-1.118317</td>\n",
       "      <td>0.772543</td>\n",
       "      <td>-1.268448</td>\n",
       "      <td>1.855416</td>\n",
       "    </tr>\n",
       "    <tr>\n",
       "      <th>3</th>\n",
       "      <td>-1.112465</td>\n",
       "      <td>2.431532</td>\n",
       "      <td>1</td>\n",
       "      <td>5</td>\n",
       "      <td>-1.118317</td>\n",
       "      <td>2.425849</td>\n",
       "      <td>-0.824024</td>\n",
       "      <td>0.965262</td>\n",
       "    </tr>\n",
       "    <tr>\n",
       "      <th>4</th>\n",
       "      <td>-1.112465</td>\n",
       "      <td>-0.878695</td>\n",
       "      <td>4</td>\n",
       "      <td>1</td>\n",
       "      <td>-1.118317</td>\n",
       "      <td>-0.880762</td>\n",
       "      <td>0.509251</td>\n",
       "      <td>-0.815047</td>\n",
       "    </tr>\n",
       "  </tbody>\n",
       "</table>\n",
       "</div>"
      ],
      "text/plain": [
       "      hgoal     vgoal  FTagg_home  FTagg_visitor  tothgoal  totvgoal  \\\n",
       "0  0.789726  1.603975           5              8  0.781488  1.599196   \n",
       "1  2.691917  1.603975          10              4  2.681294  1.599196   \n",
       "2 -1.112465  0.776419           0              7 -1.118317  0.772543   \n",
       "3 -1.112465  2.431532           1              5 -1.118317  2.425849   \n",
       "4 -1.112465 -0.878695           4              1 -1.118317 -0.880762   \n",
       "\n",
       "   totagg_home  totagg_visitor  \n",
       "0     0.953676        2.300493  \n",
       "1     3.175800        0.520185  \n",
       "2    -1.268448        1.855416  \n",
       "3    -0.824024        0.965262  \n",
       "4     0.509251       -0.815047  "
      ]
     },
     "metadata": {},
     "output_type": "display_data"
    }
   ],
   "source": [
    "# now all of the features are standarzied and \n",
    "print (\"\\nFeature values:\")\n",
    "display(x_all.head())"
   ]
  },
  {
   "cell_type": "code",
   "execution_count": 33,
   "metadata": {},
   "outputs": [],
   "source": [
    "# the data will be split into training and testing sets as well as shuffled \n",
    "from sklearn.model_selection import train_test_split\n",
    "\n",
    "x_train, x_test, y_train, y_test = train_test_split(x_all, y_all, test_size = 100, random_state = 2)"
   ]
  },
  {
   "cell_type": "code",
   "execution_count": 34,
   "metadata": {},
   "outputs": [],
   "source": [
    "# The data we split will now to trained and evaluated\n",
    "\n",
    "from time import time\n",
    "\n",
    "from sklearn.metrics import f1_score\n",
    "\n",
    "def train_classifier(clf, x_train, y_train):\n",
    "    ''' Fits a classifier to the training data.'''\n",
    "    \n",
    "    start = time()\n",
    "    clf.fit(x_train, y_train)\n",
    "    end = time()\n",
    "    \n",
    "    print (\"Trained model in {:.4f} seconds\".format(end - start))\n",
    "\n",
    "def predict_labels(clf, features, target):\n",
    "    ''' Makes predictions using a fit classifier based on F1 score.'''\n",
    "    \n",
    "    start = time()\n",
    "    y_pred = clf.predict(features)\n",
    "    \n",
    "    end = time()\n",
    "    \n",
    "    print (\"Made predictions in {:.4f} seconds.\".format(end - start))\n",
    "    \n",
    "    return f1_score(target, y_pred, pos_label='H', average='micro'), sum(target == y_pred) / float(len(y_pred))\n",
    "\n",
    "def train_predict(clf, x_train, y_train, x_test, y_test):\n",
    "    '''Train and predict using a classifier based on F1 score.'''\n",
    "    \n",
    "    print (\"Training a {} using a training set size of {}. . .\".format(clf.__class__.__name__, len(x_train)))\n",
    "    \n",
    "    train_classifier(clf, x_train, y_train)\n",
    "    \n",
    "    f1, acc = predict_labels(clf, x_train, y_train)\n",
    "    print (f1, acc)\n",
    "    print (\"F1 score and accuracy score for test set: {:.4f}, {:.4f}.\".format(f1, acc))"
   ]
  },
  {
   "cell_type": "code",
   "execution_count": 38,
   "metadata": {
    "scrolled": false
   },
   "outputs": [
    {
     "name": "stdout",
     "output_type": "stream",
     "text": [
      "Training a LogisticRegression using a training set size of 6454. . .\n",
      "Trained model in 18.1893 seconds\n",
      "Made predictions in 0.0033 seconds.\n",
      "0.9383328168577626 0.9383328168577626\n",
      "F1 score and accuracy score for test set: 0.9383, 0.9383.\n",
      "\n",
      "Training a GaussianNB using a training set size of 6454. . .\n",
      "Trained model in 0.0199 seconds\n",
      "Made predictions in 0.0193 seconds.\n",
      "1.0 1.0\n",
      "F1 score and accuracy score for test set: 1.0000, 1.0000.\n",
      "\n",
      "Training a XGBClassifier using a training set size of 6454. . .\n",
      "[18:46:24] WARNING: /opt/concourse/worker/volumes/live/7a2b9f41-3287-451b-6691-43e9a6c0910f/volume/xgboost-split_1619728204606/work/src/learner.cc:1061: Starting in XGBoost 1.3.0, the default evaluation metric used with the objective 'multi:softprob' was changed from 'merror' to 'mlogloss'. Explicitly set eval_metric if you'd like to restore the old behavior.\n",
      "Trained model in 2.7629 seconds\n",
      "Made predictions in 0.0396 seconds.\n",
      "0.9981406879454602 0.9981406879454602\n",
      "F1 score and accuracy score for test set: 0.9981, 0.9981.\n",
      "\n"
     ]
    }
   ],
   "source": [
    "# The 3 models used are a Logistic Regress, Random Forest, and a Decison tree using XGBoost\n",
    "import xgboost as xgb\n",
    "from sklearn.naive_bayes import GaussianNB\n",
    "\n",
    "clf_A = LogisticRegression(random_state = 42, max_iter=2000)\n",
    "clf_B = GaussianNB()\n",
    "clf_C = xgb.XGBClassifier(seed = 82)\n",
    "\n",
    "# The F1 score and accuracy will be printed \n",
    "train_predict(clf_A, x_train, y_train, x_test, y_test)\n",
    "print ('')\n",
    "train_predict(clf_B, x_train, y_train, x_test, y_test)\n",
    "print('')\n",
    "train_predict(clf_C, x_train, y_train, x_test, y_test)\n",
    "print('')"
   ]
  },
  {
   "cell_type": "code",
   "execution_count": 39,
   "metadata": {
    "scrolled": true
   },
   "outputs": [
    {
     "name": "stdout",
     "output_type": "stream",
     "text": [
      "[18:46:32] WARNING: /opt/concourse/worker/volumes/live/7a2b9f41-3287-451b-6691-43e9a6c0910f/volume/xgboost-split_1619728204606/work/src/learner.cc:541: \n",
      "Parameters: { scale_pos_weight } might not be used.\n",
      "\n",
      "  This may not be accurate due to some parameters are only used in language bindings but\n",
      "  passed down to XGBoost core.  Or some parameters are not used but slip through this\n",
      "  verification. Please open an issue if you find above cases.\n",
      "\n",
      "\n",
      "[18:46:32] WARNING: /opt/concourse/worker/volumes/live/7a2b9f41-3287-451b-6691-43e9a6c0910f/volume/xgboost-split_1619728204606/work/src/learner.cc:1061: Starting in XGBoost 1.3.0, the default evaluation metric used with the objective 'multi:softprob' was changed from 'merror' to 'mlogloss'. Explicitly set eval_metric if you'd like to restore the old behavior.\n",
      "[18:46:34] WARNING: /opt/concourse/worker/volumes/live/7a2b9f41-3287-451b-6691-43e9a6c0910f/volume/xgboost-split_1619728204606/work/src/learner.cc:541: \n",
      "Parameters: { scale_pos_weight } might not be used.\n",
      "\n",
      "  This may not be accurate due to some parameters are only used in language bindings but\n",
      "  passed down to XGBoost core.  Or some parameters are not used but slip through this\n",
      "  verification. Please open an issue if you find above cases.\n",
      "\n",
      "\n",
      "[18:46:34] WARNING: /opt/concourse/worker/volumes/live/7a2b9f41-3287-451b-6691-43e9a6c0910f/volume/xgboost-split_1619728204606/work/src/learner.cc:1061: Starting in XGBoost 1.3.0, the default evaluation metric used with the objective 'multi:softprob' was changed from 'merror' to 'mlogloss'. Explicitly set eval_metric if you'd like to restore the old behavior.\n",
      "[18:46:36] WARNING: /opt/concourse/worker/volumes/live/7a2b9f41-3287-451b-6691-43e9a6c0910f/volume/xgboost-split_1619728204606/work/src/learner.cc:541: \n",
      "Parameters: { scale_pos_weight } might not be used.\n",
      "\n",
      "  This may not be accurate due to some parameters are only used in language bindings but\n",
      "  passed down to XGBoost core.  Or some parameters are not used but slip through this\n",
      "  verification. Please open an issue if you find above cases.\n",
      "\n",
      "\n",
      "[18:46:36] WARNING: /opt/concourse/worker/volumes/live/7a2b9f41-3287-451b-6691-43e9a6c0910f/volume/xgboost-split_1619728204606/work/src/learner.cc:1061: Starting in XGBoost 1.3.0, the default evaluation metric used with the objective 'multi:softprob' was changed from 'merror' to 'mlogloss'. Explicitly set eval_metric if you'd like to restore the old behavior.\n",
      "[18:46:37] WARNING: /opt/concourse/worker/volumes/live/7a2b9f41-3287-451b-6691-43e9a6c0910f/volume/xgboost-split_1619728204606/work/src/learner.cc:541: \n",
      "Parameters: { scale_pos_weight } might not be used.\n",
      "\n",
      "  This may not be accurate due to some parameters are only used in language bindings but\n",
      "  passed down to XGBoost core.  Or some parameters are not used but slip through this\n",
      "  verification. Please open an issue if you find above cases.\n",
      "\n",
      "\n",
      "[18:46:37] WARNING: /opt/concourse/worker/volumes/live/7a2b9f41-3287-451b-6691-43e9a6c0910f/volume/xgboost-split_1619728204606/work/src/learner.cc:1061: Starting in XGBoost 1.3.0, the default evaluation metric used with the objective 'multi:softprob' was changed from 'merror' to 'mlogloss'. Explicitly set eval_metric if you'd like to restore the old behavior.\n",
      "[18:46:39] WARNING: /opt/concourse/worker/volumes/live/7a2b9f41-3287-451b-6691-43e9a6c0910f/volume/xgboost-split_1619728204606/work/src/learner.cc:541: \n",
      "Parameters: { scale_pos_weight } might not be used.\n",
      "\n",
      "  This may not be accurate due to some parameters are only used in language bindings but\n",
      "  passed down to XGBoost core.  Or some parameters are not used but slip through this\n",
      "  verification. Please open an issue if you find above cases.\n",
      "\n",
      "\n",
      "[18:46:39] WARNING: /opt/concourse/worker/volumes/live/7a2b9f41-3287-451b-6691-43e9a6c0910f/volume/xgboost-split_1619728204606/work/src/learner.cc:1061: Starting in XGBoost 1.3.0, the default evaluation metric used with the objective 'multi:softprob' was changed from 'merror' to 'mlogloss'. Explicitly set eval_metric if you'd like to restore the old behavior.\n",
      "[18:46:40] WARNING: /opt/concourse/worker/volumes/live/7a2b9f41-3287-451b-6691-43e9a6c0910f/volume/xgboost-split_1619728204606/work/src/learner.cc:541: \n",
      "Parameters: { scale_pos_weight } might not be used.\n",
      "\n",
      "  This may not be accurate due to some parameters are only used in language bindings but\n",
      "  passed down to XGBoost core.  Or some parameters are not used but slip through this\n",
      "  verification. Please open an issue if you find above cases.\n",
      "\n",
      "\n",
      "[18:46:40] WARNING: /opt/concourse/worker/volumes/live/7a2b9f41-3287-451b-6691-43e9a6c0910f/volume/xgboost-split_1619728204606/work/src/learner.cc:1061: Starting in XGBoost 1.3.0, the default evaluation metric used with the objective 'multi:softprob' was changed from 'merror' to 'mlogloss'. Explicitly set eval_metric if you'd like to restore the old behavior.\n",
      "XGBClassifier(base_score=0.5, booster='gbtree', colsample_bylevel=1,\n",
      "              colsample_bynode=1, colsample_bytree=0.8, gamma=0.4, gpu_id=-1,\n",
      "              importance_type='gain', interaction_constraints='',\n",
      "              learning_rate=0.1, max_delta_step=0, max_depth=3,\n",
      "              min_child_weight=3, missing=nan, monotone_constraints='()',\n",
      "              n_estimators=40, n_jobs=8, num_parallel_tree=1,\n",
      "              objective='multi:softprob', random_state=2, reg_alpha=1e-05,\n",
      "              reg_lambda=1, scale_pos_weight=1, seed=2, subsample=0.8,\n",
      "              tree_method='exact', validate_parameters=1, verbosity=None)\n",
      "Made predictions in 0.0185 seconds.\n",
      "F1 score and accuracy score for trainig set: 0.9909 , 0.9909.\n",
      "Made predictions in 0.0024 seconds.\n",
      "F1 score and accuracy score for test set: 0.9800 , 0.9800.\n"
     ]
    }
   ],
   "source": [
    "# The XGBoost model produced a very high accuracy, but I changed the parameters to see the result\n",
    "\n",
    "from sklearn.model_selection import RandomizedSearchCV, GridSearchCV, train_test_split\n",
    "from sklearn.metrics import make_scorer\n",
    "\n",
    "parameters = { 'learning_rate' : [0.1],\n",
    "               'n_estimators' : [40],\n",
    "               'max_depth' : [3],\n",
    "               'min_child_weight' : [3],\n",
    "               'gamma':[0.4],\n",
    "               'subsample' : [0.8],\n",
    "               'colsample_bytree' : [0.8],\n",
    "               'scale_pos_weight' : [1],\n",
    "               'reg_alpha':[1e-5]\n",
    "             }\n",
    "\n",
    "clf = xgb.XGBClassifier(seed=2)\n",
    "\n",
    "f1_scorer = make_scorer(f1_score,pos_label='H', average='micro')\n",
    "\n",
    "grid_obj = GridSearchCV(clf, scoring=f1_scorer, \n",
    "                             param_grid=parameters,\n",
    "                             cv=5)\n",
    "grid_obj = grid_obj.fit(x_train,y_train)\n",
    "\n",
    "clf = grid_obj.best_estimator_\n",
    "print (clf)\n",
    "\n",
    "f1, acc = predict_labels(clf, x_train, y_train)\n",
    "print (\"F1 score and accuracy score for trainig set: {:.4f} , {:.4f}.\".format(f1 , acc))\n",
    "\n",
    "f1, acc = predict_labels(clf, x_test, y_test)\n",
    "print (\"F1 score and accuracy score for test set: {:.4f} , {:.4f}.\".format(f1, acc))"
   ]
  },
  {
   "cell_type": "code",
   "execution_count": 42,
   "metadata": {
    "scrolled": true
   },
   "outputs": [
    {
     "name": "stdout",
     "output_type": "stream",
     "text": [
      "[18:46:55] WARNING: /opt/concourse/worker/volumes/live/7a2b9f41-3287-451b-6691-43e9a6c0910f/volume/xgboost-split_1619728204606/work/src/learner.cc:541: \n",
      "Parameters: { scale_pos_weight } might not be used.\n",
      "\n",
      "  This may not be accurate due to some parameters are only used in language bindings but\n",
      "  passed down to XGBoost core.  Or some parameters are not used but slip through this\n",
      "  verification. Please open an issue if you find above cases.\n",
      "\n",
      "\n",
      "[18:46:55] WARNING: /opt/concourse/worker/volumes/live/7a2b9f41-3287-451b-6691-43e9a6c0910f/volume/xgboost-split_1619728204606/work/src/learner.cc:1061: Starting in XGBoost 1.3.0, the default evaluation metric used with the objective 'multi:softprob' was changed from 'merror' to 'mlogloss'. Explicitly set eval_metric if you'd like to restore the old behavior.\n",
      "[18:46:56] WARNING: /opt/concourse/worker/volumes/live/7a2b9f41-3287-451b-6691-43e9a6c0910f/volume/xgboost-split_1619728204606/work/src/learner.cc:541: \n",
      "Parameters: { scale_pos_weight } might not be used.\n",
      "\n",
      "  This may not be accurate due to some parameters are only used in language bindings but\n",
      "  passed down to XGBoost core.  Or some parameters are not used but slip through this\n",
      "  verification. Please open an issue if you find above cases.\n",
      "\n",
      "\n",
      "[18:46:56] WARNING: /opt/concourse/worker/volumes/live/7a2b9f41-3287-451b-6691-43e9a6c0910f/volume/xgboost-split_1619728204606/work/src/learner.cc:1061: Starting in XGBoost 1.3.0, the default evaluation metric used with the objective 'multi:softprob' was changed from 'merror' to 'mlogloss'. Explicitly set eval_metric if you'd like to restore the old behavior.\n",
      "[18:46:57] WARNING: /opt/concourse/worker/volumes/live/7a2b9f41-3287-451b-6691-43e9a6c0910f/volume/xgboost-split_1619728204606/work/src/learner.cc:541: \n",
      "Parameters: { scale_pos_weight } might not be used.\n",
      "\n",
      "  This may not be accurate due to some parameters are only used in language bindings but\n",
      "  passed down to XGBoost core.  Or some parameters are not used but slip through this\n",
      "  verification. Please open an issue if you find above cases.\n",
      "\n",
      "\n",
      "[18:46:57] WARNING: /opt/concourse/worker/volumes/live/7a2b9f41-3287-451b-6691-43e9a6c0910f/volume/xgboost-split_1619728204606/work/src/learner.cc:1061: Starting in XGBoost 1.3.0, the default evaluation metric used with the objective 'multi:softprob' was changed from 'merror' to 'mlogloss'. Explicitly set eval_metric if you'd like to restore the old behavior.\n",
      "[18:46:58] WARNING: /opt/concourse/worker/volumes/live/7a2b9f41-3287-451b-6691-43e9a6c0910f/volume/xgboost-split_1619728204606/work/src/learner.cc:541: \n",
      "Parameters: { scale_pos_weight } might not be used.\n",
      "\n",
      "  This may not be accurate due to some parameters are only used in language bindings but\n",
      "  passed down to XGBoost core.  Or some parameters are not used but slip through this\n",
      "  verification. Please open an issue if you find above cases.\n",
      "\n",
      "\n",
      "[18:46:58] WARNING: /opt/concourse/worker/volumes/live/7a2b9f41-3287-451b-6691-43e9a6c0910f/volume/xgboost-split_1619728204606/work/src/learner.cc:1061: Starting in XGBoost 1.3.0, the default evaluation metric used with the objective 'multi:softprob' was changed from 'merror' to 'mlogloss'. Explicitly set eval_metric if you'd like to restore the old behavior.\n",
      "[18:46:59] WARNING: /opt/concourse/worker/volumes/live/7a2b9f41-3287-451b-6691-43e9a6c0910f/volume/xgboost-split_1619728204606/work/src/learner.cc:541: \n",
      "Parameters: { scale_pos_weight } might not be used.\n",
      "\n",
      "  This may not be accurate due to some parameters are only used in language bindings but\n",
      "  passed down to XGBoost core.  Or some parameters are not used but slip through this\n",
      "  verification. Please open an issue if you find above cases.\n",
      "\n",
      "\n",
      "[18:46:59] WARNING: /opt/concourse/worker/volumes/live/7a2b9f41-3287-451b-6691-43e9a6c0910f/volume/xgboost-split_1619728204606/work/src/learner.cc:1061: Starting in XGBoost 1.3.0, the default evaluation metric used with the objective 'multi:softprob' was changed from 'merror' to 'mlogloss'. Explicitly set eval_metric if you'd like to restore the old behavior.\n",
      "[18:46:59] WARNING: /opt/concourse/worker/volumes/live/7a2b9f41-3287-451b-6691-43e9a6c0910f/volume/xgboost-split_1619728204606/work/src/learner.cc:541: \n",
      "Parameters: { scale_pos_weight } might not be used.\n",
      "\n",
      "  This may not be accurate due to some parameters are only used in language bindings but\n",
      "  passed down to XGBoost core.  Or some parameters are not used but slip through this\n",
      "  verification. Please open an issue if you find above cases.\n",
      "\n",
      "\n",
      "[18:46:59] WARNING: /opt/concourse/worker/volumes/live/7a2b9f41-3287-451b-6691-43e9a6c0910f/volume/xgboost-split_1619728204606/work/src/learner.cc:1061: Starting in XGBoost 1.3.0, the default evaluation metric used with the objective 'multi:softprob' was changed from 'merror' to 'mlogloss'. Explicitly set eval_metric if you'd like to restore the old behavior.\n",
      "XGBClassifier(base_score=0.5, booster='gbtree', colsample_bylevel=1,\n",
      "              colsample_bynode=1, colsample_bytree=0.8, gamma=0.2, gpu_id=-1,\n",
      "              importance_type='gain', interaction_constraints='',\n",
      "              learning_rate=0.03, max_delta_step=0, max_depth=5,\n",
      "              min_child_weight=5, missing=nan, monotone_constraints='()',\n",
      "              n_estimators=20, n_jobs=8, num_parallel_tree=1,\n",
      "              objective='multi:softprob', random_state=2, reg_alpha=0.01,\n",
      "              reg_lambda=1, scale_pos_weight=1, seed=2, subsample=0.8,\n",
      "              tree_method='exact', validate_parameters=1, verbosity=None)\n",
      "Made predictions in 0.0231 seconds.\n",
      "F1 score and accuracy score for trainig set: 0.9557 , 0.9557.\n"
     ]
    }
   ],
   "source": [
    "# The other parameters produced lower F1 results and accuracy so this is another attempt\n",
    "from sklearn.model_selection import RandomizedSearchCV, GridSearchCV, train_test_split\n",
    "from sklearn.metrics import make_scorer\n",
    "\n",
    "parameters = { 'learning_rate' : [0.03],\n",
    "               'n_estimators' : [20],\n",
    "               'max_depth' : [5],\n",
    "               'min_child_weight' : [5],\n",
    "               'gamma':[0.2],\n",
    "               'subsample' : [0.8],\n",
    "               'colsample_bytree' : [0.8],\n",
    "               'scale_pos_weight' : [1],\n",
    "               'reg_alpha':[1e-2]\n",
    "             }\n",
    "\n",
    "clf = xgb.XGBClassifier(seed=2)\n",
    "\n",
    "f1_scorer = make_scorer(f1_score,pos_label='H', average='micro')\n",
    "\n",
    "grid_obj = GridSearchCV(clf, \n",
    "                        scoring=f1_scorer, \n",
    "                             param_grid=parameters,\n",
    "                             cv=5)\n",
    "\n",
    "grid_obj = grid_obj.fit(x_all,y_all)\n",
    "\n",
    "clf = grid_obj.best_estimator_\n",
    "print (clf)\n",
    "\n",
    "f1, acc = predict_labels(clf, x_train, y_train)\n",
    "print (\"F1 score and accuracy score for trainig set: {:.4f} , {:.4f}.\".format(f1 , acc))"
   ]
  },
  {
   "cell_type": "code",
   "execution_count": 43,
   "metadata": {},
   "outputs": [
    {
     "name": "stdout",
     "output_type": "stream",
     "text": [
      "1.0\n"
     ]
    }
   ],
   "source": [
    "# Save Model to use in the future with joblib\n",
    "import joblib\n",
    "\n",
    "filename = 'finalized_model.sav'\n",
    "joblib.dump(clf_C, filename)\n",
    "\n",
    "\n",
    "loaded_model = joblib.load(filename)\n",
    "result = loaded_model.score(x_test, y_test)\n",
    "print(result)"
   ]
  },
  {
   "cell_type": "code",
   "execution_count": 45,
   "metadata": {},
   "outputs": [],
   "source": [
    "from sklearn.model_selection import cross_val_predict"
   ]
  },
  {
   "cell_type": "code",
   "execution_count": 46,
   "metadata": {},
   "outputs": [],
   "source": [
    "# Set up a Cross Validation to assess the accuracy of the model\n",
    "predict = cross_val_predict(clf_A, x_all, y_all, cv=10)"
   ]
  },
  {
   "cell_type": "code",
   "execution_count": 57,
   "metadata": {},
   "outputs": [
    {
     "data": {
      "image/png": "[encoded data removed]",
      "text/plain": [
       "<Figure size 576x432 with 1 Axes>"
      ]
     },
     "metadata": {
      "needs_background": "light"
     },
     "output_type": "display_data"
    }
   ],
   "source": [
    "# Cross Validation plotted for the Logistic Regression Model\n",
    "fig, ax = plt.subplots(figsize=[8,6])\n",
    "ax.scatter(y_all, predict, edgecolors=(0,0,0))\n",
    "ax.plot([y_all.min(), y_all.max()], [y_all.min(), y_all.max()], 'k--', lw=4)\n",
    "plt.show()"
   ]
  },
  {
   "cell_type": "code",
   "execution_count": 48,
   "metadata": {
    "scrolled": true
   },
   "outputs": [],
   "source": [
    "# Set up a Cross Validation to assess accuracy of the second model\n",
    "predicted = cross_val_predict(clf_B, x_all, y_all, cv=10)"
   ]
  },
  {
   "cell_type": "code",
   "execution_count": 55,
   "metadata": {
    "scrolled": false
   },
   "outputs": [
    {
     "data": {
      "image/png": "[encoded data removed]",
      "text/plain": [
       "<Figure size 576x432 with 1 Axes>"
      ]
     },
     "metadata": {
      "needs_background": "light"
     },
     "output_type": "display_data"
    }
   ],
   "source": [
    "# Cross Validation plotted for the Naive Bayes model\n",
    "fig, ax = plt.subplots(figsize=[8,6])\n",
    "ax.scatter(y_all, predicted, edgecolors=(0,0,0))\n",
    "ax.plot([y_all.min(), y_all.max()], [y_all.min(), y_all.max()], 'k--', lw=4)\n",
    "plt.show()"
   ]
  },
  {
   "cell_type": "code",
   "execution_count": 53,
   "metadata": {
    "scrolled": true
   },
   "outputs": [
    {
     "name": "stdout",
     "output_type": "stream",
     "text": [
      "[18:51:52] WARNING: /opt/concourse/worker/volumes/live/7a2b9f41-3287-451b-6691-43e9a6c0910f/volume/xgboost-split_1619728204606/work/src/learner.cc:1061: Starting in XGBoost 1.3.0, the default evaluation metric used with the objective 'multi:softprob' was changed from 'merror' to 'mlogloss'. Explicitly set eval_metric if you'd like to restore the old behavior.\n",
      "[18:51:54] WARNING: /opt/concourse/worker/volumes/live/7a2b9f41-3287-451b-6691-43e9a6c0910f/volume/xgboost-split_1619728204606/work/src/learner.cc:1061: Starting in XGBoost 1.3.0, the default evaluation metric used with the objective 'multi:softprob' was changed from 'merror' to 'mlogloss'. Explicitly set eval_metric if you'd like to restore the old behavior.\n",
      "[18:51:57] WARNING: /opt/concourse/worker/volumes/live/7a2b9f41-3287-451b-6691-43e9a6c0910f/volume/xgboost-split_1619728204606/work/src/learner.cc:1061: Starting in XGBoost 1.3.0, the default evaluation metric used with the objective 'multi:softprob' was changed from 'merror' to 'mlogloss'. Explicitly set eval_metric if you'd like to restore the old behavior.\n",
      "[18:52:00] WARNING: /opt/concourse/worker/volumes/live/7a2b9f41-3287-451b-6691-43e9a6c0910f/volume/xgboost-split_1619728204606/work/src/learner.cc:1061: Starting in XGBoost 1.3.0, the default evaluation metric used with the objective 'multi:softprob' was changed from 'merror' to 'mlogloss'. Explicitly set eval_metric if you'd like to restore the old behavior.\n",
      "[18:52:02] WARNING: /opt/concourse/worker/volumes/live/7a2b9f41-3287-451b-6691-43e9a6c0910f/volume/xgboost-split_1619728204606/work/src/learner.cc:1061: Starting in XGBoost 1.3.0, the default evaluation metric used with the objective 'multi:softprob' was changed from 'merror' to 'mlogloss'. Explicitly set eval_metric if you'd like to restore the old behavior.\n",
      "[18:52:05] WARNING: /opt/concourse/worker/volumes/live/7a2b9f41-3287-451b-6691-43e9a6c0910f/volume/xgboost-split_1619728204606/work/src/learner.cc:1061: Starting in XGBoost 1.3.0, the default evaluation metric used with the objective 'multi:softprob' was changed from 'merror' to 'mlogloss'. Explicitly set eval_metric if you'd like to restore the old behavior.\n",
      "[18:52:07] WARNING: /opt/concourse/worker/volumes/live/7a2b9f41-3287-451b-6691-43e9a6c0910f/volume/xgboost-split_1619728204606/work/src/learner.cc:1061: Starting in XGBoost 1.3.0, the default evaluation metric used with the objective 'multi:softprob' was changed from 'merror' to 'mlogloss'. Explicitly set eval_metric if you'd like to restore the old behavior.\n",
      "[18:52:11] WARNING: /opt/concourse/worker/volumes/live/7a2b9f41-3287-451b-6691-43e9a6c0910f/volume/xgboost-split_1619728204606/work/src/learner.cc:1061: Starting in XGBoost 1.3.0, the default evaluation metric used with the objective 'multi:softprob' was changed from 'merror' to 'mlogloss'. Explicitly set eval_metric if you'd like to restore the old behavior.\n",
      "[18:52:13] WARNING: /opt/concourse/worker/volumes/live/7a2b9f41-3287-451b-6691-43e9a6c0910f/volume/xgboost-split_1619728204606/work/src/learner.cc:1061: Starting in XGBoost 1.3.0, the default evaluation metric used with the objective 'multi:softprob' was changed from 'merror' to 'mlogloss'. Explicitly set eval_metric if you'd like to restore the old behavior.\n",
      "[18:52:16] WARNING: /opt/concourse/worker/volumes/live/7a2b9f41-3287-451b-6691-43e9a6c0910f/volume/xgboost-split_1619728204606/work/src/learner.cc:1061: Starting in XGBoost 1.3.0, the default evaluation metric used with the objective 'multi:softprob' was changed from 'merror' to 'mlogloss'. Explicitly set eval_metric if you'd like to restore the old behavior.\n"
     ]
    }
   ],
   "source": [
    "# Set up Cross Validation for to assess accuracy for the third model\n",
    "pred = cross_val_predict(clf_C, x_all, y_all, cv=10)"
   ]
  },
  {
   "cell_type": "code",
   "execution_count": 54,
   "metadata": {},
   "outputs": [
    {
     "data": {
      "image/png": "[encoded data removed]",
      "text/plain": [
       "<Figure size 576x432 with 1 Axes>"
      ]
     },
     "metadata": {
      "needs_background": "light"
     },
     "output_type": "display_data"
    }
   ],
   "source": [
    "# Cross Validation plotted for the Decision Tree model\n",
    "fig, ax = plt.subplots(figsize=[8,6])\n",
    "ax.scatter(y_all, predicted, edgecolors=(0,0,0))\n",
    "ax.plot([y_all.min(), y_all.max()], [y_all.min(), y_all.max()], 'k--', lw=4)\n",
    "plt.show()"
   ]
  },
  {
   "cell_type": "code",
   "execution_count": 58,
   "metadata": {},
   "outputs": [
    {
     "name": "stdout",
     "output_type": "stream",
     "text": [
      "Accuracy: 0.924 (0.011)\n"
     ]
    }
   ],
   "source": [
    "# Validating the performance of the Logistic Regression model \n",
    "\n",
    "from numpy import mean\n",
    "from numpy import std\n",
    "from sklearn.datasets import make_classification\n",
    "from sklearn.model_selection import KFold\n",
    "from sklearn.model_selection import cross_val_score\n",
    "from sklearn.linear_model import LogisticRegression\n",
    "\n",
    "# prepare the cross-validation \n",
    "cv = KFold(n_splits=10, random_state=1, shuffle=True)\n",
    "\n",
    "# evaluate model\n",
    "scores = cross_val_score(clf_A, x_all, y_all, scoring='accuracy', cv=cv, n_jobs=-1)\n",
    "# report the mean classification accuracy and standard deviation\n",
    "print('Accuracy: %.3f (%.3f)' % (mean(scores), std(scores)))"
   ]
  },
  {
   "cell_type": "code",
   "execution_count": 59,
   "metadata": {},
   "outputs": [
    {
     "name": "stdout",
     "output_type": "stream",
     "text": [
      "Accuracy: 0.995 (0.003)\n"
     ]
    }
   ],
   "source": [
    "# Validating the performance of the Decison Tree Model\n",
    "\n",
    "from numpy import mean\n",
    "from numpy import std\n",
    "from sklearn.datasets import make_classification\n",
    "from sklearn.model_selection import KFold\n",
    "from sklearn.model_selection import cross_val_score\n",
    "from sklearn.linear_model import LogisticRegression\n",
    "\n",
    "# prepare the cross-validation procedure\n",
    "cv = KFold(n_splits=10, random_state=1, shuffle=True)\n",
    "\n",
    "# evaluate the model\n",
    "scores = cross_val_score(clf_C, x_all, y_all, scoring='accuracy', cv=cv, n_jobs=-1)\n",
    "# report the mean classification accuracy and standard deviation\n",
    "print('Accuracy: %.3f (%.3f)' % (mean(scores), std(scores)))"
   ]
  },
  {
   "cell_type": "code",
   "execution_count": 60,
   "metadata": {},
   "outputs": [
    {
     "name": "stdout",
     "output_type": "stream",
     "text": [
      "Accuracy: 0.996 (0.003)\n"
     ]
    }
   ],
   "source": [
    "# Validating the performance of the Naive Bayes Model\n",
    "\n",
    "from numpy import mean\n",
    "from numpy import std\n",
    "from sklearn.datasets import make_classification\n",
    "from sklearn.model_selection import KFold\n",
    "from sklearn.model_selection import cross_val_score\n",
    "from sklearn.linear_model import LogisticRegression\n",
    "from matplotlib import pyplot\n",
    "\n",
    "# prepare for cross-validation \n",
    "cv = KFold(n_splits=10, random_state=1, shuffle=True)\n",
    "\n",
    "# evaluate the model\n",
    "scores = cross_val_score(clf_B, x_all, y_all, scoring='accuracy', cv=cv, n_jobs=-1)\n",
    "# report the mean classificaiton accuracy and standard deviation\n",
    "print('Accuracy: %.3f (%.3f)' % (mean(scores), std(scores)))"
   ]
  },
  {
   "cell_type": "code",
   "execution_count": 61,
   "metadata": {},
   "outputs": [
    {
     "data": {
      "image/png": "[encoded data removed]",
      "text/plain": [
       "<Figure size 720x720 with 1 Axes>"
      ]
     },
     "metadata": {
      "needs_background": "light"
     },
     "output_type": "display_data"
    }
   ],
   "source": [
    "# Plotting the Decision Tree model results \n",
    "\n",
    "from sklearn.tree import DecisionTreeClassifier\n",
    "from sklearn import tree\n",
    "from xgboost import plot_tree\n",
    "from sklearn.tree import export_graphviz\n",
    "\n",
    "fig, ax = plt.subplots(figsize=(10,10))\n",
    "plot_tree(clf_C,num_trees=1, ax=ax)\n",
    "plt.show()"
   ]
  },
  {
   "cell_type": "code",
   "execution_count": null,
   "metadata": {},
   "outputs": [],
   "source": []
  }
 ],
 "metadata": {
  "kernelspec": {
   "display_name": "Python 3",
   "language": "python",
   "name": "python3"
  },
  "language_info": {
   "codemirror_mode": {
    "name": "ipython",
    "version": 3
   },
   "file_extension": ".py",
   "mimetype": "text/x-python",
   "name": "python",
   "nbconvert_exporter": "python",
   "pygments_lexer": "ipython3",
   "version": "3.8.2"
  }
 },
 "nbformat": 4,
 "nbformat_minor": 4
}
